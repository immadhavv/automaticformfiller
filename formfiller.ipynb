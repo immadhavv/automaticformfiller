{
 "cells": [
  {
   "cell_type": "code",
   "execution_count": null,
   "metadata": {},
   "outputs": [],
   "source": [
    "from selenium import webdriver\n",
    "from selenium.webdriver.common.by import By\n",
    "from time import sleep\n",
    "from selenium.webdriver.common.keys import Keys"
   ]
  },
  {
   "cell_type": "code",
   "execution_count": null,
   "metadata": {},
   "outputs": [],
   "source": [
    "option = webdriver.ChromeOptions()\n",
    "option.add_argument(\"-incognito\")\n",
    "#option.add_experimental_option(\"excludeSwitches\", ['enable-automation']);\n",
    "#option.add_argument(\"--headless\") #Use this and the following option to run Headless\n",
    "#option.add_argument(\"disable-gpu\")\n",
    "browser = webdriver.Chrome(executable_path='/usr/local/bin/chromedriver', options=option)\n"
   ]
  },
  {
   "cell_type": "code",
   "execution_count": null,
   "metadata": {},
   "outputs": [],
   "source": [
    "import random\n",
    "def main_logic():\n",
    "    browser.get(\"https://forms.gle/3zyGrMEqwyh2zVV4A\")\n",
    "    radiobuttons = browser.find_elements(by=By.CLASS_NAME, value=\"SG0AAe\")\n",
    "    \n",
    "    for i in radiobuttons:\n",
    "        all_children_by_xpath = i.find_elements(by=By.XPATH, value=\".//*\")\n",
    "        buttons=[]\n",
    "        for j in all_children_by_xpath:\n",
    "            if \"nWQGrd zwllIb\" in j.get_attribute(\"class\"):\n",
    "                buttons.append(j)\n",
    "        index=random.randint(0, len(buttons)-1)\n",
    "        buttons[index].click()\n",
    "\n",
    "        submitbutton=browser.find_elements(by=By.XPATH,value=\"/html/body/div/div[2]/form/div[2]/div/div[3]/div/div[1]/div/span/span\")\n",
    "        submitbutton[0].click()\n",
    "        sleep(1)        \n"
   ]
  },
  {
   "cell_type": "code",
   "execution_count": null,
   "metadata": {},
   "outputs": [],
   "source": [
    "number_of_responses=40\n",
    "for i in range(number_of_responses):\n",
    "    main_logic()\n",
    "    print(\"ITERATION:\",i+1)\n",
    "print(\"DONE!!\")"
   ]
  }
 ],
 "metadata": {
  "interpreter": {
   "hash": "aee8b7b246df8f9039afb4144a1f6fd8d2ca17a180786b69acc140d282b71a49"
  },
  "kernelspec": {
   "display_name": "Python 3.9.7 64-bit",
   "language": "python",
   "name": "python3"
  },
  "language_info": {
   "codemirror_mode": {
    "name": "ipython",
    "version": 3
   },
   "file_extension": ".py",
   "mimetype": "text/x-python",
   "name": "python",
   "nbconvert_exporter": "python",
   "pygments_lexer": "ipython3",
   "version": "3.8.9"
  },
  "orig_nbformat": 4
 },
 "nbformat": 4,
 "nbformat_minor": 2
}
