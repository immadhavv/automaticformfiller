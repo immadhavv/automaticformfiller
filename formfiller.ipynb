{
 "cells": [
  {
   "cell_type": "code",
   "execution_count": 62,
   "metadata": {},
   "outputs": [],
   "source": [
    "from selenium import webdriver\n",
    "from selenium.webdriver.common.by import By\n",
    "from time import sleep\n",
    "from selenium.webdriver.common.keys import Keys"
   ]
  },
  {
   "cell_type": "code",
   "execution_count": 63,
   "metadata": {},
   "outputs": [
    {
     "name": "stderr",
     "output_type": "stream",
     "text": [
      "/var/folders/dr/1_4s8tc114z6sdpyfnb5bkn80000gp/T/ipykernel_39512/694826362.py:6: DeprecationWarning: executable_path has been deprecated, please pass in a Service object\n",
      "  browser = webdriver.Chrome(executable_path='/usr/local/bin/chromedriver', options=option)\n"
     ]
    }
   ],
   "source": [
    "option = webdriver.ChromeOptions()\n",
    "option.add_argument(\"-incognito\")\n",
    "#option.add_experimental_option(\"excludeSwitches\", ['enable-automation']);\n",
    "#option.add_argument(\"--headless\") #Use this and the following option to run Headless\n",
    "#option.add_argument(\"disable-gpu\")\n",
    "browser = webdriver.Chrome(executable_path='/usr/local/bin/chromedriver', options=option)\n"
   ]
  },
  {
   "cell_type": "code",
   "execution_count": 64,
   "metadata": {},
   "outputs": [],
   "source": [
    "import random\n",
    "def main_logic():\n",
    "    browser.get(\"https://forms.gle/3zyGrMEqwyh2zVV4A\")\n",
    "    radiobuttons = browser.find_elements(by=By.CLASS_NAME, value=\"SG0AAe\")\n",
    "    \n",
    "    for i in radiobuttons:\n",
    "        all_children_by_xpath = i.find_elements(by=By.XPATH, value=\".//*\")\n",
    "        buttons=[]\n",
    "        for j in all_children_by_xpath:\n",
    "            if \"nWQGrd zwllIb\" in j.get_attribute(\"class\"):\n",
    "                buttons.append(j)\n",
    "        index=random.randint(0, len(buttons)-1)\n",
    "        buttons[index].click()\n",
    "\n",
    "        submitbutton=browser.find_elements(by=By.XPATH,value=\"/html/body/div/div[2]/form/div[2]/div/div[3]/div/div[1]/div/span/span\")\n",
    "        submitbutton[0].click()\n",
    "        sleep(1)        \n"
   ]
  },
  {
   "cell_type": "code",
   "execution_count": 65,
   "metadata": {},
   "outputs": [
    {
     "name": "stdout",
     "output_type": "stream",
     "text": [
      "0\n",
      "ITERATION: 0\n",
      "34\n",
      "ITERATION: 1\n",
      "34\n",
      "ITERATION: 2\n",
      "34\n",
      "ITERATION: 3\n",
      "34\n",
      "ITERATION: 4\n",
      "34\n",
      "ITERATION: 5\n",
      "34\n",
      "ITERATION: 6\n",
      "34\n",
      "ITERATION: 7\n",
      "34\n",
      "ITERATION: 8\n",
      "34\n",
      "ITERATION: 9\n",
      "34\n",
      "ITERATION: 10\n",
      "34\n",
      "ITERATION: 11\n",
      "34\n",
      "ITERATION: 12\n",
      "34\n",
      "ITERATION: 13\n",
      "34\n",
      "ITERATION: 14\n",
      "34\n",
      "ITERATION: 15\n"
     ]
    },
    {
     "ename": "UnexpectedAlertPresentException",
     "evalue": "Alert Text: {Alert text : \nMessage: unexpected alert open: {Alert text : }\n  (Session info: chrome=100.0.4896.75)\nStacktrace:\n0   chromedriver                        0x00000001022543d9 chromedriver + 5104601\n1   chromedriver                        0x00000001021e4bf3 chromedriver + 4647923\n2   chromedriver                        0x0000000101dd5b48 chromedriver + 392008\n3   chromedriver                        0x0000000101e3ae91 chromedriver + 806545\n4   chromedriver                        0x0000000101e285b3 chromedriver + 730547\n5   chromedriver                        0x0000000101dfe139 chromedriver + 557369\n6   chromedriver                        0x0000000101dff165 chromedriver + 561509\n7   chromedriver                        0x000000010221339d chromedriver + 4838301\n8   chromedriver                        0x000000010222bcde chromedriver + 4938974\n9   chromedriver                        0x0000000102230b5e chromedriver + 4959070\n10  chromedriver                        0x000000010222c94a chromedriver + 4942154\n11  chromedriver                        0x000000010220833c chromedriver + 4793148\n12  chromedriver                        0x00000001022463b8 chromedriver + 5047224\n13  chromedriver                        0x000000010224653f chromedriver + 5047615\n14  chromedriver                        0x000000010225b705 chromedriver + 5134085\n15  libsystem_pthread.dylib             0x00007ff8047b04f4 _pthread_start + 125\n16  libsystem_pthread.dylib             0x00007ff8047ac00f thread_start + 15\n",
     "output_type": "error",
     "traceback": [
      "\u001b[0;31m---------------------------------------------------------------------------\u001b[0m",
      "\u001b[0;31mUnexpectedAlertPresentException\u001b[0m           Traceback (most recent call last)",
      "\u001b[1;32m/Users/madhd/Documents/formfiller.ipynb Cell 4'\u001b[0m in \u001b[0;36m<cell line: 2>\u001b[0;34m()\u001b[0m\n\u001b[1;32m      <a href='vscode-notebook-cell:/Users/madhd/Documents/formfiller.ipynb#ch0000003?line=0'>1</a>\u001b[0m number_of_responses\u001b[39m=\u001b[39m\u001b[39m20\u001b[39m\n\u001b[1;32m      <a href='vscode-notebook-cell:/Users/madhd/Documents/formfiller.ipynb#ch0000003?line=1'>2</a>\u001b[0m \u001b[39mfor\u001b[39;00m i \u001b[39min\u001b[39;00m \u001b[39mrange\u001b[39m(number_of_responses):\n\u001b[0;32m----> <a href='vscode-notebook-cell:/Users/madhd/Documents/formfiller.ipynb#ch0000003?line=2'>3</a>\u001b[0m     main_logic()\n\u001b[1;32m      <a href='vscode-notebook-cell:/Users/madhd/Documents/formfiller.ipynb#ch0000003?line=3'>4</a>\u001b[0m     \u001b[39mprint\u001b[39m(\u001b[39m\"\u001b[39m\u001b[39mITERATION:\u001b[39m\u001b[39m\"\u001b[39m,i)\n",
      "\u001b[1;32m/Users/madhd/Documents/formfiller.ipynb Cell 3'\u001b[0m in \u001b[0;36mmain_logic\u001b[0;34m()\u001b[0m\n\u001b[1;32m      <a href='vscode-notebook-cell:/Users/madhd/Documents/formfiller.ipynb#ch0000002?line=1'>2</a>\u001b[0m \u001b[39mdef\u001b[39;00m \u001b[39mmain_logic\u001b[39m():\n\u001b[1;32m      <a href='vscode-notebook-cell:/Users/madhd/Documents/formfiller.ipynb#ch0000002?line=2'>3</a>\u001b[0m     browser\u001b[39m.\u001b[39mget(\u001b[39m\"\u001b[39m\u001b[39mhttps://forms.gle/3zyGrMEqwyh2zVV4A\u001b[39m\u001b[39m\"\u001b[39m)\n\u001b[0;32m----> <a href='vscode-notebook-cell:/Users/madhd/Documents/formfiller.ipynb#ch0000002?line=3'>4</a>\u001b[0m     radiobuttons \u001b[39m=\u001b[39m browser\u001b[39m.\u001b[39;49mfind_elements(by\u001b[39m=\u001b[39;49mBy\u001b[39m.\u001b[39;49mCLASS_NAME, value\u001b[39m=\u001b[39;49m\u001b[39m\"\u001b[39;49m\u001b[39mSG0AAe\u001b[39;49m\u001b[39m\"\u001b[39;49m)\n\u001b[1;32m      <a href='vscode-notebook-cell:/Users/madhd/Documents/formfiller.ipynb#ch0000002?line=4'>5</a>\u001b[0m     \u001b[39m#radiobuttons = browser.find_elements(by=By.ID, value=\"mG61Hd\")\u001b[39;00m\n\u001b[1;32m      <a href='vscode-notebook-cell:/Users/madhd/Documents/formfiller.ipynb#ch0000002?line=5'>6</a>\u001b[0m     \u001b[39mprint\u001b[39m((\u001b[39mlen\u001b[39m(radiobuttons)))\n",
      "File \u001b[0;32m~/Library/Python/3.8/lib/python/site-packages/selenium/webdriver/remote/webdriver.py:1283\u001b[0m, in \u001b[0;36mWebDriver.find_elements\u001b[0;34m(self, by, value)\u001b[0m\n\u001b[1;32m   <a href='file:///Users/madhd/Library/Python/3.8/lib/python/site-packages/selenium/webdriver/remote/webdriver.py?line=1278'>1279</a>\u001b[0m     value \u001b[39m=\u001b[39m \u001b[39m'\u001b[39m\u001b[39m[name=\u001b[39m\u001b[39m\"\u001b[39m\u001b[39m%s\u001b[39;00m\u001b[39m\"\u001b[39m\u001b[39m]\u001b[39m\u001b[39m'\u001b[39m \u001b[39m%\u001b[39m value\n\u001b[1;32m   <a href='file:///Users/madhd/Library/Python/3.8/lib/python/site-packages/selenium/webdriver/remote/webdriver.py?line=1280'>1281</a>\u001b[0m \u001b[39m# Return empty list if driver returns null\u001b[39;00m\n\u001b[1;32m   <a href='file:///Users/madhd/Library/Python/3.8/lib/python/site-packages/selenium/webdriver/remote/webdriver.py?line=1281'>1282</a>\u001b[0m \u001b[39m# See https://github.com/SeleniumHQ/selenium/issues/4555\u001b[39;00m\n\u001b[0;32m-> <a href='file:///Users/madhd/Library/Python/3.8/lib/python/site-packages/selenium/webdriver/remote/webdriver.py?line=1282'>1283</a>\u001b[0m \u001b[39mreturn\u001b[39;00m \u001b[39mself\u001b[39;49m\u001b[39m.\u001b[39;49mexecute(Command\u001b[39m.\u001b[39;49mFIND_ELEMENTS, {\n\u001b[1;32m   <a href='file:///Users/madhd/Library/Python/3.8/lib/python/site-packages/selenium/webdriver/remote/webdriver.py?line=1283'>1284</a>\u001b[0m     \u001b[39m'\u001b[39;49m\u001b[39musing\u001b[39;49m\u001b[39m'\u001b[39;49m: by,\n\u001b[1;32m   <a href='file:///Users/madhd/Library/Python/3.8/lib/python/site-packages/selenium/webdriver/remote/webdriver.py?line=1284'>1285</a>\u001b[0m     \u001b[39m'\u001b[39;49m\u001b[39mvalue\u001b[39;49m\u001b[39m'\u001b[39;49m: value})[\u001b[39m'\u001b[39m\u001b[39mvalue\u001b[39m\u001b[39m'\u001b[39m] \u001b[39mor\u001b[39;00m []\n",
      "File \u001b[0;32m~/Library/Python/3.8/lib/python/site-packages/selenium/webdriver/remote/webdriver.py:425\u001b[0m, in \u001b[0;36mWebDriver.execute\u001b[0;34m(self, driver_command, params)\u001b[0m\n\u001b[1;32m    <a href='file:///Users/madhd/Library/Python/3.8/lib/python/site-packages/selenium/webdriver/remote/webdriver.py?line=422'>423</a>\u001b[0m response \u001b[39m=\u001b[39m \u001b[39mself\u001b[39m\u001b[39m.\u001b[39mcommand_executor\u001b[39m.\u001b[39mexecute(driver_command, params)\n\u001b[1;32m    <a href='file:///Users/madhd/Library/Python/3.8/lib/python/site-packages/selenium/webdriver/remote/webdriver.py?line=423'>424</a>\u001b[0m \u001b[39mif\u001b[39;00m response:\n\u001b[0;32m--> <a href='file:///Users/madhd/Library/Python/3.8/lib/python/site-packages/selenium/webdriver/remote/webdriver.py?line=424'>425</a>\u001b[0m     \u001b[39mself\u001b[39;49m\u001b[39m.\u001b[39;49merror_handler\u001b[39m.\u001b[39;49mcheck_response(response)\n\u001b[1;32m    <a href='file:///Users/madhd/Library/Python/3.8/lib/python/site-packages/selenium/webdriver/remote/webdriver.py?line=425'>426</a>\u001b[0m     response[\u001b[39m'\u001b[39m\u001b[39mvalue\u001b[39m\u001b[39m'\u001b[39m] \u001b[39m=\u001b[39m \u001b[39mself\u001b[39m\u001b[39m.\u001b[39m_unwrap_value(\n\u001b[1;32m    <a href='file:///Users/madhd/Library/Python/3.8/lib/python/site-packages/selenium/webdriver/remote/webdriver.py?line=426'>427</a>\u001b[0m         response\u001b[39m.\u001b[39mget(\u001b[39m'\u001b[39m\u001b[39mvalue\u001b[39m\u001b[39m'\u001b[39m, \u001b[39mNone\u001b[39;00m))\n\u001b[1;32m    <a href='file:///Users/madhd/Library/Python/3.8/lib/python/site-packages/selenium/webdriver/remote/webdriver.py?line=427'>428</a>\u001b[0m     \u001b[39mreturn\u001b[39;00m response\n",
      "File \u001b[0;32m~/Library/Python/3.8/lib/python/site-packages/selenium/webdriver/remote/errorhandler.py:246\u001b[0m, in \u001b[0;36mErrorHandler.check_response\u001b[0;34m(self, response)\u001b[0m\n\u001b[1;32m    <a href='file:///Users/madhd/Library/Python/3.8/lib/python/site-packages/selenium/webdriver/remote/errorhandler.py?line=243'>244</a>\u001b[0m     \u001b[39melif\u001b[39;00m \u001b[39m'\u001b[39m\u001b[39malert\u001b[39m\u001b[39m'\u001b[39m \u001b[39min\u001b[39;00m value:\n\u001b[1;32m    <a href='file:///Users/madhd/Library/Python/3.8/lib/python/site-packages/selenium/webdriver/remote/errorhandler.py?line=244'>245</a>\u001b[0m         alert_text \u001b[39m=\u001b[39m value[\u001b[39m'\u001b[39m\u001b[39malert\u001b[39m\u001b[39m'\u001b[39m]\u001b[39m.\u001b[39mget(\u001b[39m'\u001b[39m\u001b[39mtext\u001b[39m\u001b[39m'\u001b[39m)\n\u001b[0;32m--> <a href='file:///Users/madhd/Library/Python/3.8/lib/python/site-packages/selenium/webdriver/remote/errorhandler.py?line=245'>246</a>\u001b[0m     \u001b[39mraise\u001b[39;00m exception_class(message, screen, stacktrace, alert_text)  \u001b[39m# type: ignore[call-arg]  # mypy is not smart enough here\u001b[39;00m\n\u001b[1;32m    <a href='file:///Users/madhd/Library/Python/3.8/lib/python/site-packages/selenium/webdriver/remote/errorhandler.py?line=246'>247</a>\u001b[0m \u001b[39mraise\u001b[39;00m exception_class(message, screen, stacktrace)\n",
      "\u001b[0;31mUnexpectedAlertPresentException\u001b[0m: Alert Text: {Alert text : \nMessage: unexpected alert open: {Alert text : }\n  (Session info: chrome=100.0.4896.75)\nStacktrace:\n0   chromedriver                        0x00000001022543d9 chromedriver + 5104601\n1   chromedriver                        0x00000001021e4bf3 chromedriver + 4647923\n2   chromedriver                        0x0000000101dd5b48 chromedriver + 392008\n3   chromedriver                        0x0000000101e3ae91 chromedriver + 806545\n4   chromedriver                        0x0000000101e285b3 chromedriver + 730547\n5   chromedriver                        0x0000000101dfe139 chromedriver + 557369\n6   chromedriver                        0x0000000101dff165 chromedriver + 561509\n7   chromedriver                        0x000000010221339d chromedriver + 4838301\n8   chromedriver                        0x000000010222bcde chromedriver + 4938974\n9   chromedriver                        0x0000000102230b5e chromedriver + 4959070\n10  chromedriver                        0x000000010222c94a chromedriver + 4942154\n11  chromedriver                        0x000000010220833c chromedriver + 4793148\n12  chromedriver                        0x00000001022463b8 chromedriver + 5047224\n13  chromedriver                        0x000000010224653f chromedriver + 5047615\n14  chromedriver                        0x000000010225b705 chromedriver + 5134085\n15  libsystem_pthread.dylib             0x00007ff8047b04f4 _pthread_start + 125\n16  libsystem_pthread.dylib             0x00007ff8047ac00f thread_start + 15\n"
     ]
    }
   ],
   "source": [
    "number_of_responses=4\n",
    "for i in range(number_of_responses):\n",
    "    main_logic()\n",
    "    print(\"ITERATION:\",i)"
   ]
  }
 ],
 "metadata": {
  "interpreter": {
   "hash": "aee8b7b246df8f9039afb4144a1f6fd8d2ca17a180786b69acc140d282b71a49"
  },
  "kernelspec": {
   "display_name": "Python 3.9.7 64-bit",
   "language": "python",
   "name": "python3"
  },
  "language_info": {
   "codemirror_mode": {
    "name": "ipython",
    "version": 3
   },
   "file_extension": ".py",
   "mimetype": "text/x-python",
   "name": "python",
   "nbconvert_exporter": "python",
   "pygments_lexer": "ipython3",
   "version": "3.8.9"
  },
  "orig_nbformat": 4
 },
 "nbformat": 4,
 "nbformat_minor": 2
}
