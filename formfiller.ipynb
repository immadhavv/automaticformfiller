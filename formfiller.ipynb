{
 "cells": [
  {
   "cell_type": "code",
   "execution_count": 58,
   "metadata": {},
   "outputs": [],
   "source": [
    "from selenium import webdriver\n",
    "from selenium.webdriver.common.by import By\n",
    "from time import sleep\n",
    "from selenium.webdriver.common.keys import Keys"
   ]
  },
  {
   "cell_type": "code",
   "execution_count": 59,
   "metadata": {},
   "outputs": [
    {
     "name": "stderr",
     "output_type": "stream",
     "text": [
      "/var/folders/dr/1_4s8tc114z6sdpyfnb5bkn80000gp/T/ipykernel_39512/2487729384.py:6: DeprecationWarning: executable_path has been deprecated, please pass in a Service object\n",
      "  browser = webdriver.Chrome(executable_path='/usr/local/bin/chromedriver', options=option)\n"
     ]
    }
   ],
   "source": [
    "option = webdriver.ChromeOptions()\n",
    "option.add_argument(\"-incognito\")\n",
    "#option.add_experimental_option(\"excludeSwitches\", ['enable-automation']);\n",
    "#option.add_argument(\"--headless\") #Use this and the following option to run Headless\n",
    "#option.add_argument(\"disable-gpu\")\n",
    "browser = webdriver.Chrome(executable_path='/usr/local/bin/chromedriver', options=option)\n"
   ]
  },
  {
   "cell_type": "code",
   "execution_count": 60,
   "metadata": {},
   "outputs": [],
   "source": [
    "import random\n",
    "def main_logic():\n",
    "    browser.get(\"https://forms.gle/3zyGrMEqwyh2zVV4A\")\n",
    "    radiobuttons = browser.find_elements(by=By.CLASS_NAME, value=\"SG0AAe\")\n",
    "    #radiobuttons = browser.find_elements(by=By.ID, value=\"mG61Hd\")\n",
    "    print((len(radiobuttons)))\n",
    "    qs=0\n",
    "    for i in radiobuttons:\n",
    "        all_children_by_xpath = i.find_elements(by=By.XPATH, value=\".//*\")\n",
    "        buttons=[]\n",
    "        for j in all_children_by_xpath:\n",
    "            if \"nWQGrd zwllIb\" in j.get_attribute(\"class\"):\n",
    "                buttons.append(j)\n",
    "        index=random.randint(0, len(buttons)-1)\n",
    "        buttons[index].click()\n",
    "        qs=qs+1\n",
    "\n",
    "        submitbutton=browser.find_elements(by=By.XPATH,value=\"/html/body/div/div[2]/form/div[2]/div/div[3]/div/div[1]/div/span/span\")\n",
    "        #print(len(submitbutton))\n",
    "        submitbutton[0].click()\n",
    "        sleep(1)\n",
    "    #browser.close()\n",
    "        \n"
   ]
  },
  {
   "cell_type": "code",
   "execution_count": 61,
   "metadata": {},
   "outputs": [
    {
     "name": "stdout",
     "output_type": "stream",
     "text": [
      "0\n",
      "ITERATION: 0\n",
      "34\n"
     ]
    },
    {
     "ename": "KeyboardInterrupt",
     "evalue": "",
     "output_type": "error",
     "traceback": [
      "\u001b[0;31m---------------------------------------------------------------------------\u001b[0m",
      "\u001b[0;31mKeyboardInterrupt\u001b[0m                         Traceback (most recent call last)",
      "\u001b[1;32m/Users/madhd/Documents/formfiller.ipynb Cell 4'\u001b[0m in \u001b[0;36m<cell line: 2>\u001b[0;34m()\u001b[0m\n\u001b[1;32m      <a href='vscode-notebook-cell:/Users/madhd/Documents/formfiller.ipynb#ch0000003?line=0'>1</a>\u001b[0m number_of_responses\u001b[39m=\u001b[39m\u001b[39m20\u001b[39m\n\u001b[1;32m      <a href='vscode-notebook-cell:/Users/madhd/Documents/formfiller.ipynb#ch0000003?line=1'>2</a>\u001b[0m \u001b[39mfor\u001b[39;00m i \u001b[39min\u001b[39;00m \u001b[39mrange\u001b[39m(number_of_responses):\n\u001b[0;32m----> <a href='vscode-notebook-cell:/Users/madhd/Documents/formfiller.ipynb#ch0000003?line=2'>3</a>\u001b[0m     main_logic()\n\u001b[1;32m      <a href='vscode-notebook-cell:/Users/madhd/Documents/formfiller.ipynb#ch0000003?line=3'>4</a>\u001b[0m     \u001b[39mprint\u001b[39m(\u001b[39m\"\u001b[39m\u001b[39mITERATION:\u001b[39m\u001b[39m\"\u001b[39m,i)\n",
      "\u001b[1;32m/Users/madhd/Documents/formfiller.ipynb Cell 3'\u001b[0m in \u001b[0;36mmain_logic\u001b[0;34m()\u001b[0m\n\u001b[1;32m     <a href='vscode-notebook-cell:/Users/madhd/Documents/formfiller.ipynb#ch0000002?line=18'>19</a>\u001b[0m \u001b[39m#print(len(submitbutton))\u001b[39;00m\n\u001b[1;32m     <a href='vscode-notebook-cell:/Users/madhd/Documents/formfiller.ipynb#ch0000002?line=19'>20</a>\u001b[0m submitbutton[\u001b[39m0\u001b[39m]\u001b[39m.\u001b[39mclick()\n\u001b[0;32m---> <a href='vscode-notebook-cell:/Users/madhd/Documents/formfiller.ipynb#ch0000002?line=20'>21</a>\u001b[0m sleep(\u001b[39m1\u001b[39;49m)\n",
      "\u001b[0;31mKeyboardInterrupt\u001b[0m: "
     ]
    }
   ],
   "source": [
    "number_of_responses=20\n",
    "for i in range(number_of_responses):\n",
    "    main_logic()\n",
    "    print(\"ITERATION:\",i)"
   ]
  }
 ],
 "metadata": {
  "interpreter": {
   "hash": "aee8b7b246df8f9039afb4144a1f6fd8d2ca17a180786b69acc140d282b71a49"
  },
  "kernelspec": {
   "display_name": "Python 3.9.7 64-bit",
   "language": "python",
   "name": "python3"
  },
  "language_info": {
   "codemirror_mode": {
    "name": "ipython",
    "version": 3
   },
   "file_extension": ".py",
   "mimetype": "text/x-python",
   "name": "python",
   "nbconvert_exporter": "python",
   "pygments_lexer": "ipython3",
   "version": "3.8.9"
  },
  "orig_nbformat": 4
 },
 "nbformat": 4,
 "nbformat_minor": 2
}
